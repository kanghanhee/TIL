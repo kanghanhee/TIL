{
 "cells": [
  {
   "attachments": {},
   "cell_type": "markdown",
   "metadata": {},
   "source": [
    "# 1. 콜백함수"
   ]
  },
  {
   "cell_type": "code",
   "execution_count": 1,
   "metadata": {},
   "outputs": [
    {
     "name": "stdout",
     "output_type": "stream",
     "text": [
      "second\n"
     ]
    },
    {
     "name": "stdout",
     "output_type": "stream",
     "text": [
      "first\n"
     ]
    }
   ],
   "source": [
    "const first = ()=> {\n",
    "  setTimeout(() => console.log('first'), 1000);\n",
    "}\n",
    "\n",
    "const second = ()=> {\n",
    "  console.log('second');\n",
    "}\n",
    "\n",
    "first();\n",
    "second();"
   ]
  },
  {
   "attachments": {},
   "cell_type": "markdown",
   "metadata": {},
   "source": [
    "first, second 로 실행되길 바랬다. 위 코드를 실행하면 원하는 결과가 나올까?\n",
    "</br>\n",
    "원하는 결과로 출력되게(순서대로) 하려면 콜백함수를 쓰면된다. "
   ]
  },
  {
   "cell_type": "code",
   "execution_count": 1,
   "metadata": {},
   "outputs": [
    {
     "name": "stdout",
     "output_type": "stream",
     "text": [
      "first\n",
      "second\n"
     ]
    }
   ],
   "source": [
    "const first = (callback) => {\n",
    "  setTimeout(() => {\n",
    "    console.log('first');\n",
    "    callback();\n",
    "  }, 1000);\n",
    "}\n",
    "\n",
    "const second = () =>{\n",
    "  console.log('second');\n",
    "}\n",
    "\n",
    "first(second);"
   ]
  },
  {
   "attachments": {},
   "cell_type": "markdown",
   "metadata": {},
   "source": [
    "- 콜백 함수란 다른 함수의 인자로 전달된 함수다.</br>\n",
    "- 다른 함수의 인자로 전달된 콜백함수는 특정 이벤트가 발생하면 호출된다.</br>\n",
    "  여기서는 `setTimeout이 이벤트!`</br>\n",
    "- 다른 객체에게 '이벤트가 끝나면 나 불러줘' 라고 일을 맡기고, 이벤트가 끝나면 콜백함수를 실행한다.</br>\n",
    "\n",
    "But, 콜백지옥을 만들 수 있음ㅜㅜ</br>\n",
    "그래서 등장한 것이 프로미스 개념이다.</br>\n",
    "\n",
    "# 2. 프로미스\n",
    "- 프로미스의 3가지 상태\n",
    "  - pending : 아직 비동기 처리가 완료되지 않음\n",
    "  - fulfilled : 비동기 처리가 완료되어 결과값이 반환됨\n",
    "  - rejected : 비동기 처리 과정에서 오류가 발생함"
   ]
  },
  {
   "cell_type": "code",
   "execution_count": 1,
   "metadata": {},
   "outputs": [
    {
     "data": {
      "text/plain": [
       "Promise { <pending> }"
      ]
     },
     "execution_count": 1,
     "metadata": {},
     "output_type": "execute_result"
    },
    {
     "name": "stdout",
     "output_type": "stream",
     "text": [
      "reject = null\n",
      "done!\n"
     ]
    }
   ],
   "source": [
    "const first = new Promise((resolve, reject) => {\n",
    "  // setTimeout(() => resolve('first'));\n",
    "  setTimeout(() => reject(null));\n",
    "})\n",
    "\n",
    "first\n",
    "  .then((result) => console.log('resolve = ', result))\n",
    "  .catch((err) => console.log('reject =',err))\n",
    "  .finally(() => console.log('done!'))"
   ]
  },
  {
   "attachments": {},
   "cell_type": "markdown",
   "metadata": {},
   "source": [
    "- new Promise()를 통해 선언하며, 인자에는</br>\n",
    "  function(resolve, reject) {...} 가 들어간다</br>\n",
    "  return값은 resolve나 reject 내부의 메세지다</br>\n",
    "\n",
    "- Promise는 resolve, reject 둘 중 하나만 실행한다</br>\n",
    "  두 가지 모두 있다면 나중에 작성된 코드는 무시된다</br>\n",
    "\n",
    "- **then**: fulfilled 상태일 때 실행된다.</br>\n",
    "- **catch**: rejected 상태일 때 실행된다."
   ]
  },
  {
   "cell_type": "code",
   "execution_count": null,
   "metadata": {},
   "outputs": [],
   "source": [
    "const getValue = new Promise((resolve, reject) => {\n",
    "  setTimeout(() => resolve(2), 1000);\n",
    "});\n",
    "\n",
    "getValue\n",
    "  .then((result) => result * 2)\n",
    "  .then((result) => result * 2)\n",
    "  .then((result) => result * 2)\n",
    "  .then((result) => {\n",
    "    console.log(result); // 16\n",
    "    throw Error('error!');\n",
    "  })\n",
    "  .catch((err) => console.log(err)); // error!"
   ]
  },
  {
   "attachments": {},
   "cell_type": "markdown",
   "metadata": {},
   "source": [
    "- 특징\n",
    "  - then을 연속으로 사용할 수 있다.\n",
    "  - throw Error() 를 통해 에러가 발생하면 바로 catch로 간다.\n",
    "  - **finally** : 결과에 상관없이 항상 출력된다."
   ]
  },
  {
   "cell_type": "code",
   "execution_count": null,
   "metadata": {},
   "outputs": [],
   "source": [
    "const getUserData = new Promise((resolve, reject) => {\n",
    "  const data = fetch(\"https://api.github.com/users/kanghanhee\");\n",
    "  resolve(data);\n",
    "  console.log(data);\n",
    "})\n",
    "\n",
    "getUserData\n",
    "  .then((result) => result.json())\n",
    "  .then((result) => console.log(result))\n",
    "  .catch((err) => console.log(err));"
   ]
  },
  {
   "attachments": {},
   "cell_type": "markdown",
   "metadata": {},
   "source": [
    "# 3. Async/Await\n",
    "\n",
    "- async, await 을 사용하면 then, catch를 사용하지 않고 Promise의 결과를 얻을 수 있다.</br>\n",
    "- await 은 async 함수 안에서만 사용할 수 있다.</br>\n",
    "- await 은 결과가 resolve인지 reject인지 상관없이 Promise가 끝날 때까지 기다린다."
   ]
  },
  {
   "cell_type": "code",
   "execution_count": null,
   "metadata": {},
   "outputs": [],
   "source": [
    "const getUserData = async() => {\n",
    "  const response = await fetch(\"https://api.github.com/users/kanghanhee\");\n",
    "  const data = await response.json(); // await 없으면 pending 상태임\n",
    "  console.log(data);\n",
    "}\n",
    "\n",
    "getUserData();"
   ]
  }
 ],
 "metadata": {
  "kernelspec": {
   "display_name": "JavaScript (Node.js)",
   "language": "javascript",
   "name": "javascript"
  },
  "language_info": {
   "file_extension": ".js",
   "mimetype": "application/javascript",
   "name": "javascript",
   "version": "16.19.0"
  },
  "orig_nbformat": 4
 },
 "nbformat": 4,
 "nbformat_minor": 2
}
